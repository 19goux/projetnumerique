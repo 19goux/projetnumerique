{
 "cells": [
  {
   "cell_type": "markdown",
   "metadata": {},
   "source": [
    "# Projet numérique - Nathan Bertho, Hadrien Goux"
   ]
  },
  {
   "cell_type": "markdown",
   "metadata": {},
   "source": [
    "On cherche à calculer puis représenter les lignes de niveaux d'une fonction à deux variables réelles continuement différentiable. Pour ce faire, il nous est proposé de diviser le domaine de la fonction en cellule carrées sur lesquelles on va étudier des fragments de lignes de niveau. On pourra ainsi appliquer des programmes élémentaires à l'échelle d'une cellule, puis assembler les différents fragments en lignes de niveau."
   ]
  },
  {
   "cell_type": "markdown",
   "metadata": {},
   "source": [
    "# Partie I : find_seed"
   ]
  },
  {
   "cell_type": "markdown",
   "metadata": {},
   "source": [
    "On a supposé f continuement différientable. Une condition suffisante sur f(0,0), f(O,1) et le réel c pour avoir un t dans [0,1] tel que f(0,t)=c est d'avoir $g: y \\to \\ f(0,y)$ monotone et c inclus dans [g(0),g(1)] ou [g(1),g(0)] selon le sens de cette monotonie. Autrement dit, il suffit que (g(1)-c)x(g(0)-c) soit une quantité négative, ce qui correspond à observer un changement de signe de $h: y \\to \\ g(y)-c$ entre 0 et 1.\n",
    "\n",
    "La première fonction élémentaire consiste en la détection d'un tel t sur l'arête gauche d'une cellule élémentaire $[0,1]^2$. On choisit de détecter par dichotomie l'antécédent d'une valeur c, si elle est bien contenue sur l'arête gauche de la cellule."
   ]
  },
  {
   "cell_type": "code",
   "execution_count": 1,
   "metadata": {},
   "outputs": [],
   "source": [
    "def find_seed(g, c=0, eps=2**(-26)):\n",
    "    s=(g(1)-c)*(g(0)-c)\n",
    "    if s<=0:\n",
    "        a=0\n",
    "        b=1\n",
    "        i=(a+b)/2\n",
    "        while abs(c-g(i))>eps: #tant qu'on est pas assez proche de la marge d'erreur\n",
    "            if c>g(i):\n",
    "                a=i\n",
    "            else:\n",
    "                b=i\n",
    "            i=(a+b)/2\n",
    "        return i\n",
    "    return None"
   ]
  },
  {
   "cell_type": "code",
   "execution_count": 2,
   "metadata": {},
   "outputs": [
    {
     "data": {
      "text/plain": [
       "0.3999999761581421"
      ]
     },
     "execution_count": 2,
     "metadata": {},
     "output_type": "execute_result"
    }
   ],
   "source": [
    "def f(y):\n",
    "    return 0.5*y+0.1\n",
    "\n",
    "find_seed(f, 0.3)"
   ]
  },
  {
   "cell_type": "markdown",
   "metadata": {},
   "source": [
    "Ici l'exemple montre qu'on détecte bien un point initiale, à eps près, pour la fonction f, à partir de la ligne de niveau 0.3"
   ]
  },
  {
   "cell_type": "markdown",
   "metadata": {},
   "source": [
    "# Partie II : contour simple"
   ]
  },
  {
   "cell_type": "markdown",
   "metadata": {},
   "source": [
    "Pour coder une fonction simple_contour qui renvoie un fragment de ligne de niveau c de f, nous avons d'abord essayé une méthode par tangente à partir d'un point de la ligne de niveau renvoyé par find_seed. En effet, nous imaginions qu'avec un delta choisi suffisamment petit, la tangente serait une assez bonne estimation pour trouver le prochain point de la ligne de niveau.\n",
    "Pour calculer l'équation de la tangente, nous utilisons le théorème des fonctions implicites qui donne la différentielle.\n",
    "\n",
    "Commençons par importer les modules nécessaires."
   ]
  },
  {
   "cell_type": "code",
   "execution_count": 3,
   "metadata": {},
   "outputs": [],
   "source": [
    "import autograd.numpy as np\n",
    "from autograd import grad\n",
    "import math\n",
    "import matplotlib.pyplot as plt"
   ]
  },
  {
   "cell_type": "markdown",
   "metadata": {},
   "source": [
    "Ensuite, on crée des fonctions auxiliaires, qui doivent calculer le gradient de f et le coefficient directeur de la tangente."
   ]
  },
  {
   "cell_type": "code",
   "execution_count": 4,
   "metadata": {},
   "outputs": [],
   "source": [
    "def grad_f(f,x,y):\n",
    "    \"\"\"Renvoie le gradient de la fonction\"\"\"\n",
    "    g=grad\n",
    "    return np.r_[g(f,0)(x,y),g(f,1)(x,y)]\n",
    "\n",
    "def dPhi(f,x,y):\n",
    "    \"\"\"Renvoie le coefficient directeur de la tangente au point (x, y) selon le théorème des fonctions implicites\"\"\"\n",
    "    return(-grad_f(f,x,y)[0]/grad_f(f,x,y)[1])"
   ]
  },
  {
   "cell_type": "markdown",
   "metadata": {},
   "source": [
    "Maintenant, il s'agit de déterminer comment on va choisir le prochain point sur la tangente. Un peu de géometrie élémentaire nous donne l'expression des deux points situés à delta de distance sur la tangente d'un point de la ligne de niveau, de coefficient directeur a :\n",
    "posant q = $delta*(1+a^2)^{-1/2}$ ,\n",
    "x1_1 , y1_1= q+x0, a*q+y0 et\n",
    "x1_2 , y1_2= -q+x0,-a*q+y0\n",
    "\n",
    "Pour décider quel point on garde, on va naturellement choisir celui qui fait \"avancer\" le problème, c'est à dire qui, en plus d'être à delta du dernier point, est le plus loin de l'avant dernier point.\n",
    "On crée donc une fonction auxiliaire prochain_point qui détermine les deux candidats et en renvoie un seul, grâce en entrée aux derniers membres des listes X et Y calculées progressivement dans simple_contour, ainsi qu'au coefficient de la tangente (a) et à delta :"
   ]
  },
  {
   "cell_type": "code",
   "execution_count": 5,
   "metadata": {},
   "outputs": [],
   "source": [
    "def prochain_point_tan(X,Y,a,delta):\n",
    "    \"\"\"Détecte le prochain point de la ligne de niveau\"\"\"\n",
    "    q=delta/(math.sqrt(1+a**2))\n",
    "    xi_1,yi_1=q+X[-1],a*q+Y[-1]\n",
    "    xi_2,yi_2=-q+X[-1],-a*q+Y[-1]\n",
    "    d1=(xi_1-X[-2])**2+(yi_1-Y[-2])**2\n",
    "    d2=(xi_2-X[-2])**2+(yi_2-Y[-2])**2\n",
    "    if d1>d2: #On teste le point le plus loin de l'avant dernier, pour ne pas revenir en arrière\n",
    "        return(xi_1,yi_1)\n",
    "    else:\n",
    "        return(xi_2,yi_2)"
   ]
  },
  {
   "cell_type": "markdown",
   "metadata": {},
   "source": [
    "On peut s'attaquer à simple_contour :"
   ]
  },
  {
   "cell_type": "code",
   "execution_count": 6,
   "metadata": {},
   "outputs": [],
   "source": [
    "def simple_contour(f,c=0.0, delta=0.01):\n",
    "    X=[]\n",
    "    Y=[]\n",
    "    x0=0.\n",
    "    n=0\n",
    "    def g(y) :\n",
    "        return f(x0,y)\n",
    "    y0=find_seed(g,c)\n",
    "    if y0!=None :\n",
    "        a=dPhi(f,x0,y0)\n",
    "        q=delta/(math.sqrt(1+a**2))\n",
    "        Y.append(y0)\n",
    "        X.append(x0)\n",
    "        xi,yi=q+x0,a*q+y0 #Pour i=1, la racine avec - devant est forcément hors du carré\n",
    "        while 0<=xi<=1 and 0<=yi<=1 and n<5000: #Etre sûr qu'on reste dans le domaine\n",
    "            X.append(xi)\n",
    "            Y.append(yi) #On ajoute le point\n",
    "            a=dPhi(f,xi,yi)\n",
    "            xi,yi=prochain_point_tan(X,Y,a,delta)\n",
    "            n+=1\n",
    "    x=np.array(X)\n",
    "    y=np.array(Y)\n",
    "    return (x,y) "
   ]
  },
  {
   "cell_type": "markdown",
   "metadata": {},
   "source": [
    "On teste notre méthode sur un premier exemple :"
   ]
  },
  {
   "cell_type": "code",
   "execution_count": 7,
   "metadata": {},
   "outputs": [
    {
     "data": {
      "image/png": "[encoded data removed]",
      "text/plain": [
       "<Figure size 432x288 with 1 Axes>"
      ]
     },
     "metadata": {
      "needs_background": "light"
     },
     "output_type": "display_data"
    }
   ],
   "source": [
    "def g(x,y):\n",
    "    return (x+0.2)**2+(y-0.2)**2-0.3\n",
    "\n",
    "(x,y)=simple_contour(g)\n",
    "plt.scatter(x,y)\n",
    "plt.show()"
   ]
  },
  {
   "cell_type": "markdown",
   "metadata": {},
   "source": [
    "Réussite pour cet exemple ! Essayons quelque chose de plus corsé en demandant un résultat sur un pavé plus grand... $[-1,1]^2$"
   ]
  },
  {
   "cell_type": "code",
   "execution_count": 8,
   "metadata": {},
   "outputs": [
    {
     "data": {
      "image/png": "[encoded data removed]",
      "text/plain": [
       "<Figure size 432x288 with 1 Axes>"
      ]
     },
     "metadata": {
      "needs_background": "light"
     },
     "output_type": "display_data"
    }
   ],
   "source": [
    "#Modification de simple contour\n",
    "def simple_contour(f,c=0.0, delta=0.01):\n",
    "    X=[]\n",
    "    Y=[]\n",
    "    x0=0.\n",
    "    n=0\n",
    "    def g(y) :\n",
    "        return f(x0,y)\n",
    "    y0=find_seed(g,c)\n",
    "    if y0!=None :\n",
    "        a=dPhi(f,x0,y0)\n",
    "        q=delta/(math.sqrt(1+a**2))\n",
    "        Y.append(y0)\n",
    "        X.append(x0)\n",
    "        xi,yi=q+x0,a*q+y0 #Pour i=1, la racine avec - devant est forcément hors du carré\n",
    "        while -1<=xi<=1 and -1<=yi<=1 and n<5000: #Etre sûr qu'on reste dans le domaine\n",
    "            X.append(xi)\n",
    "            Y.append(yi) #On ajoute le point\n",
    "            a=dPhi(f,xi,yi)\n",
    "            xi,yi=prochain_point_tan(X,Y,a,delta)\n",
    "            n+=1\n",
    "    x=np.array(X)\n",
    "    y=np.array(Y)\n",
    "    return (x,y) \n",
    "\n",
    "#Test numéro 2\n",
    "def g(x,y):\n",
    "    return (x+0.2)**2+(y-0.2)**2-0.3\n",
    "\n",
    "(x,y)=simple_contour(g)\n",
    "plt.plot(x,y)\n",
    "plt.show()"
   ]
  },
  {
   "cell_type": "markdown",
   "metadata": {},
   "source": [
    "Problème ! La méthode n'est pas assez précise, le point situé à delta sur la tangente n'est plus sur la ligne de niveau, et le calcul de sa tangente nous éloigne encore, et encore... on diverge et on trace une sorte de spirale !\n",
    "Comment s'y prendre ? Pour affiner la recherche du prochaint point, on garde la méthode de la tangente puis on cherche un point sur la ligne de niveau à x ou y fixé (égal à celui du point retenu) avec une méthode de Newton."
   ]
  },
  {
   "cell_type": "code",
   "execution_count": 9,
   "metadata": {},
   "outputs": [],
   "source": [
    "from scipy import misc\n",
    "\n",
    "def newton(f, x, tolerance=0.00000000001):\n",
    "    n=0\n",
    "    while n<40:\n",
    "        x1 = x - f(x) / misc.derivative(f, x) \n",
    "        t = abs(x1 - x)\n",
    "        if t < tolerance:\n",
    "            break\n",
    "        x = x1\n",
    "        n+=1\n",
    "    return x"
   ]
  },
  {
   "cell_type": "markdown",
   "metadata": {},
   "source": [
    "Pour déterminer si l'on fixe x ou y, on doit regarder le coefficient de la tangente :"
   ]
  },
  {
   "cell_type": "code",
   "execution_count": 10,
   "metadata": {
    "scrolled": true
   },
   "outputs": [
    {
     "data": {
      "image/png": "[encoded data removed]",
      "text/plain": [
       "<Figure size 432x288 with 1 Axes>"
      ]
     },
     "metadata": {
      "needs_background": "light"
     },
     "output_type": "display_data"
    }
   ],
   "source": [
    "def f(x):\n",
    "    return x**10\n",
    "\n",
    "\n",
    "def tan_en_4(x):\n",
    "    return 4**10+10*(x-4)*4**9\n",
    "\n",
    "x=np.linspace(3,6,100)    \n",
    "v1=[6,6]\n",
    "v2=[0,6*1e7]\n",
    "h1=[3,6]\n",
    "h2=[0.629*1e7,0.629*1e7]\n",
    "plt.plot(x,f(x),label='ligne de niveau')\n",
    "plt.plot(x,tan_en_4(x),label='tangente en 4')\n",
    "plt.plot(v1,v2,label='A x fixé')\n",
    "plt.plot(h1,h2,label='A y fixé')\n",
    "plt.legend()\n",
    "plt.show()\n"
   ]
  },
  {
   "cell_type": "markdown",
   "metadata": {},
   "source": [
    "Sur cette exemple, on a une ligne de niveau qui \"tourne\" assez subitement vers 5. Donc, par exemple, quand on a eu comme dernier point 4 et que le prochain donné par la tangente est 6 (NB : on voit bien que la méthode de la tangente n'est pas précise ici) on peut choisir parmi deux options :\n",
    "- travailler à x fixé, qui correspond à chercher un point très loin (voir infiniment loin, sans trouver de point, alors Newton diverge)\n",
    "- travailler à y fixé, qui correspond à trouver un point relativement proche de 4, avec convergence de la méthode.\n",
    "\n",
    "Ceci est directement à lié à la valeur du coefficient directeur : on doit le comparer par rapport à celui de la première bissectrice. Ici a>1, et on choisit de fixer y. On retient donc le test :\n",
    "- a>1, on fixe y\n",
    "- sinon, on fixe x"
   ]
  },
  {
   "cell_type": "markdown",
   "metadata": {},
   "source": [
    "Un dernier cas est possible et aura donné des résultats imparfaits lors de nos expérimentations : celui où a est très grand ou très petit. En effet, alors la tangente est quasi verticale et Newton ne s'applique pas. On doit simplement prendre un point, à x fixé, plus haut ou plus bas de delta selon y.\n",
    "\n",
    "Dans ce cas, on ajoute une fonctionnalité à notre nouveau simple_contour, qui différenciera quand a est petit de quand a est grand. Pour cela on redéfinit dPhi pour renvoyer un tuple quand a est trop grand, ou trop petit, avec le signe de a :"
   ]
  },
  {
   "cell_type": "code",
   "execution_count": 11,
   "metadata": {},
   "outputs": [],
   "source": [
    "def dPhi_v2(f,x,y):\n",
    "    if 0<=grad_f(f,x,y)[1]<1e-3: \n",
    "        return (False,1)\n",
    "    if 0>grad_f(f,x,y)[1]>-1e-3: \n",
    "        return (False,-1)\n",
    "    return(-grad_f(f,x,y)[0]/grad_f(f,x,y)[1])\n",
    "    "
   ]
  },
  {
   "cell_type": "markdown",
   "metadata": {},
   "source": [
    "On peut désormais réécrire simple_contour :"
   ]
  },
  {
   "cell_type": "code",
   "execution_count": 12,
   "metadata": {},
   "outputs": [],
   "source": [
    "def simple_contour_v2(f,c=0.0, delta=0.01):\n",
    "    X=[]\n",
    "    Y=[]\n",
    "    x0=0.\n",
    "    def g(y) :\n",
    "        return f(x0,y)-c\n",
    "    y0=find_seed(g,c)\n",
    "    if y0!=None :\n",
    "        a=dPhi(f,x0,y0)\n",
    "        q=delta/(math.sqrt(1+a**2))\n",
    "        Y.append(y0)\n",
    "        X.append(x0)\n",
    "        xi,yi=q+x0,a*q+y0 #Pour i=1, la racine avec - devant est forcément hors du carré\n",
    "        n=0\n",
    "        while -1<=xi<=1 and -1<=yi<=1 and n<5000: #Etre sûr qu'on reste dans le domaine, ici on met -1 pour l'exemple\n",
    "            X.append(xi)\n",
    "            Y.append(yi) #On ajoute le point\n",
    "            a=dPhi_v2(f,xi,yi)\n",
    "            if type(a)==tuple: \n",
    "                yi=yi+a[1]*delta #selon le signe du coefficient a de la tangente\n",
    "            elif a>1: #On va fixer y\n",
    "                xt,yt=prochain_point_tan(X,Y,a,delta) #Détermine le prochain point intéressant de la tangente\n",
    "                def fx(x): #On crée une fonction fx à y fixé\n",
    "                    return f(x,yt)-c\n",
    "                xi,yi=newton(fx,xt),yt #On applique Newton à fx\n",
    "            else:\n",
    "                xt,yt=prochain_point_tan(X,Y,a,delta)\n",
    "                def fy(y):\n",
    "                    return f(xt,y)-c\n",
    "                xi,yi=xt,newton(fy,yt)\n",
    "            n+=1\n",
    "    x=np.array(X)\n",
    "    y=np.array(Y)\n",
    "    return (x,y)        \n",
    "        "
   ]
  },
  {
   "cell_type": "markdown",
   "metadata": {},
   "source": [
    "L'heure du test est arrivé..."
   ]
  },
  {
   "cell_type": "code",
   "execution_count": 13,
   "metadata": {},
   "outputs": [
    {
     "data": {
      "image/png": "[encoded data removed]",
      "text/plain": [
       "<Figure size 432x288 with 1 Axes>"
      ]
     },
     "metadata": {
      "needs_background": "light"
     },
     "output_type": "display_data"
    }
   ],
   "source": [
    "def g(x,y):\n",
    "    return (x+0.2)**2+(y-0.2)**2-0.3\n",
    "\n",
    "(x,y)=simple_contour_v2(g)\n",
    "plt.plot(x,y)\n",
    "plt.show()"
   ]
  },
  {
   "cell_type": "markdown",
   "metadata": {},
   "source": [
    "Réussite !"
   ]
  },
  {
   "cell_type": "markdown",
   "metadata": {},
   "source": [
    "# Partie 3 : contour complexe"
   ]
  },
  {
   "cell_type": "markdown",
   "metadata": {},
   "source": [
    "## A. Modification de contour simple"
   ]
  },
  {
   "cell_type": "markdown",
   "metadata": {},
   "source": [
    "Dans cette partie, nous décidons de créer des algorithmes find_seed_v2 et contour_simple_v2 pour faire fonctionner un contour complexe plus léger, bien qu'une autre solution aurait été de créer un contour complexe avec plus de code."
   ]
  },
  {
   "cell_type": "code",
   "execution_count": 14,
   "metadata": {},
   "outputs": [],
   "source": [
    "import autograd.numpy as np\n",
    "from autograd import grad\n",
    "import math\n",
    "import matplotlib.pyplot as plt\n",
    "from scipy import misc"
   ]
  },
  {
   "cell_type": "markdown",
   "metadata": {},
   "source": [
    "Commençons par redéfinir les fonctions du début (avec la version dPhi_v2)"
   ]
  },
  {
   "cell_type": "code",
   "execution_count": 15,
   "metadata": {},
   "outputs": [],
   "source": [
    "def grad_f(f,x,y):\n",
    "    g=grad\n",
    "    return np.r_[g(f,0)(x,y),g(f,1)(x,y)]\n",
    "\n",
    "def dPhi_v2(f,x,y):\n",
    "    if 0<=grad_f(f,x,y)[1]<1e-3: \n",
    "        return (False,1)\n",
    "    if 0>grad_f(f,x,y)[1]>-1e-3: \n",
    "        return (False,-1)\n",
    "    return(-grad_f(f,x,y)[0]/grad_f(f,x,y)[1])\n",
    "    \n",
    "\n",
    "def newton(f, x, tolerance=0.00000000001):\n",
    "    n=0\n",
    "    while n<40:\n",
    "        x1 = x - f(x) / misc.derivative(f, x) \n",
    "        t = abs(x1 - x)\n",
    "        if t < tolerance:\n",
    "            break\n",
    "        x = x1\n",
    "        n+=1\n",
    "    return x\n",
    "\n",
    "\n",
    "def prochain_point_tan(X,Y,a,delta):\n",
    "    q=delta/(math.sqrt(1+a**2))\n",
    "    xt_1,yt_1=q+X[-1],a*q+Y[-1]\n",
    "    xt_2,yt_2=-q+X[-1],-a*q+Y[-1]\n",
    "    d1=(xt_1-X[-2])**2+(yt_1-Y[-2])**2\n",
    "    d2=(xt_2-X[-2])**2+(yt_2-Y[-2])**2\n",
    "    if d1>d2:\n",
    "        return(xt_1,yt_1)\n",
    "    else:\n",
    "        return(xt_2,yt_2)"
   ]
  },
  {
   "cell_type": "markdown",
   "metadata": {},
   "source": [
    "Maintenant, attaquons nous à find_seed_v2. L'objectif est que la recherche d'un point sur la ligne de niveau s'effectue sur les 4 arêtes de la portion d'espace que nous avons découpé. On va aussi faire en sorte que la recherche s'arrête dès qu'un point est trouvé (pas besoin de chercher sur les autres arêtes). Pour ce programme, on considère que contour complexe peut transférer le problème d'étude d'une portion quelconque de l'espace d'étude (de bonne taille) à notre précédent ensemble d'étude $[0,1]^2$.\n",
    "\n",
    "Rappelons que find_seed doit fixer une variable de f (x ou y) et appliquer une dichotomie en fonction de l'autre variable. Le problème est que la précédente version de find_seed effectue la recherche sur l'unique arête où x=0. On va donc utiliser une fonction rotateur, qui prend en entrée f et un entier (de 1 à 4, chacun correspondant à une arête) et qui renvoie f avec une variable fixée sur la bonne arête. Le reste de find_seed est identique. On va aussi utiliser une fonction résultat_seed, qui prend en entrée le résultat de la dichotomie et le numéro de l'arête pour renvoyer le couple (x,y) qui va bien."
   ]
  },
  {
   "cell_type": "code",
   "execution_count": 16,
   "metadata": {},
   "outputs": [],
   "source": [
    "def find_seed_v2(f, c=0, eps=2**(-26)):\n",
    "    k=1\n",
    "    while k<=4:\n",
    "        g=rotateur(f,k)\n",
    "        s=(g(1)-c)*(g(0)-c)\n",
    "        if s<=0:\n",
    "            a=0\n",
    "            b=1\n",
    "            i=(a+b)/2\n",
    "            while abs(c-g(i))>eps:\n",
    "                if c>g(i):\n",
    "                    a=i\n",
    "                else:\n",
    "                    b=i\n",
    "                i=(a+b)/2\n",
    "            return résultat_seed(k,i)\n",
    "        k+=1\n",
    "    return None,None"
   ]
  },
  {
   "cell_type": "markdown",
   "metadata": {},
   "source": [
    "Maintenant, définissons rotateur et résultat_seed avec le formalisme suivant (voir résultat du code suivant) :"
   ]
  },
  {
   "cell_type": "code",
   "execution_count": 17,
   "metadata": {},
   "outputs": [
    {
     "data": {
      "image/png": "[encoded data removed]",
      "text/plain": [
       "<Figure size 432x288 with 1 Axes>"
      ]
     },
     "metadata": {
      "needs_background": "light"
     },
     "output_type": "display_data"
    }
   ],
   "source": [
    "x=[0,0,1,1,0]\n",
    "y=[0,1,1,0,0]\n",
    "plt.plot(x,y)\n",
    "plt.text(0.03,0.5,'1')\n",
    "plt.text(0.95,0.5,'3')\n",
    "plt.text(0.5,0.1,'2')\n",
    "plt.text(0.5,0.9,'4')\n",
    "plt.show()"
   ]
  },
  {
   "cell_type": "markdown",
   "metadata": {},
   "source": [
    "Ainsi on code :"
   ]
  },
  {
   "cell_type": "code",
   "execution_count": 18,
   "metadata": {},
   "outputs": [],
   "source": [
    "def rotateur(f,k):\n",
    "    if k==1:\n",
    "         return lambda y:f(0,y)\n",
    "    if k==3:\n",
    "         return lambda y:f(1,y)\n",
    "    if k==2:\n",
    "         return lambda x:f(x,0)\n",
    "    if k==4:\n",
    "         return lambda x:f(x,1)\n",
    "\n",
    "def résultat_seed(k,i):\n",
    "    if k==1:\n",
    "         return 0,i\n",
    "    if k==3:\n",
    "         return 1,i\n",
    "    if k==2:\n",
    "         return i,0\n",
    "    if k==4:\n",
    "         return i,1"
   ]
  },
  {
   "cell_type": "markdown",
   "metadata": {},
   "source": [
    "On peut maintenant réécrire simple_contour. Grâce à find_seed_v2, on change assez peu le code de simple_contour, à une exception près ; maintenant que l'on effectue le test sur toutes les arêtes, il n'est plus possible de prendre x1,y1 aussi facilement que précedemment. En effet avant on était sûr de connaître le point dans le pavé, parmi ceux possibles sur la tangente. Maintenant, on doit ajouter un test sur ce point aussi, grâce à un algorithme semblable à celui défini pour prochain_point_tan, que l'on nomme ici premier_point et que voici :"
   ]
  },
  {
   "cell_type": "code",
   "execution_count": 19,
   "metadata": {},
   "outputs": [],
   "source": [
    "def Premier_point(x0,y0,a,delta):\n",
    "    q=delta/(math.sqrt(1+a**2))\n",
    "    x1_1,y1_1=q+x0,a*q+y0\n",
    "    x1_2,y1_2=-q+x0,-a*q+y0\n",
    "    if 0<=x1_1<=1 and 0<=y1_1<=1:\n",
    "        return(x1_1,y1_1)\n",
    "    else:\n",
    "        return(x1_2,y1_2)"
   ]
  },
  {
   "cell_type": "markdown",
   "metadata": {},
   "source": [
    "Grâce à cette fonction on peut définir simple_contour_v3 :"
   ]
  },
  {
   "cell_type": "code",
   "execution_count": 20,
   "metadata": {},
   "outputs": [],
   "source": [
    "def simple_contour_v3(f,c=0.0, delta=0.01):\n",
    "    X=[]\n",
    "    Y=[]\n",
    "    x0,y0=find_seed_v2(f,c)\n",
    "    if x0 is not None and y0 is not None :\n",
    "        x0,y0=float(x0),float(y0)\n",
    "        a=dPhi(f,x0,y0)\n",
    "        Y.append(y0)\n",
    "        X.append(x0)\n",
    "        xi,yi=Premier_point(x0,y0,a,delta) #Comme on est sur une des 4 arêtes, on doit tester\n",
    "        n=0\n",
    "        while 0<=xi<=1 and 0<=yi<=1 and n<500: \n",
    "            X.append(xi)\n",
    "            Y.append(yi) #On ajoute le point\n",
    "            a=dPhi(f,xi,yi)\n",
    "            if type(a)==tuple:\n",
    "                yi=yi+a[1]*delta\n",
    "            elif a>1:\n",
    "                xt,yt=prochain_point_tan(X,Y,a,delta) \n",
    "                def fx(x):\n",
    "                    return f(x,yt)-c\n",
    "                xi,yi=newton(fx,xt),yt\n",
    "            else:\n",
    "                xt,yt=prochain_point_tan(X,Y,a,delta)\n",
    "                def fy(y):\n",
    "                    return f(xt,y)-c\n",
    "                xi,yi=xt,newton(fy,yt)\n",
    "            n+=1\n",
    "    return X,Y "
   ]
  },
  {
   "cell_type": "markdown",
   "metadata": {},
   "source": [
    "Maintenant que simple_contour_v3 est défini, on peut le tester (voir résultat du code suivant) :"
   ]
  },
  {
   "cell_type": "code",
   "execution_count": 21,
   "metadata": {},
   "outputs": [
    {
     "data": {
      "image/png": "[encoded data removed]",
      "text/plain": [
       "<Figure size 432x288 with 1 Axes>"
      ]
     },
     "metadata": {
      "needs_background": "light"
     },
     "output_type": "display_data"
    }
   ],
   "source": [
    "def g(x,y):\n",
    "    return (x+0.2)**2+(y-0.2)**2-0.3\n",
    "\n",
    "(x,y)=simple_contour_v3(g)\n",
    "plt.scatter(x,y)\n",
    "plt.show()\n",
    "#Succès !"
   ]
  },
  {
   "cell_type": "markdown",
   "metadata": {},
   "source": [
    "On a donc un simple_contour_v3 qui fonctionne, on peut définir contour."
   ]
  },
  {
   "cell_type": "markdown",
   "metadata": {},
   "source": [
    "## B. Définition de contour"
   ]
  },
  {
   "cell_type": "markdown",
   "metadata": {},
   "source": [
    "Dans notre fonction contour, on fait appel à simple_contour_v2 sur chaque cellule. Simple_contour_v2 est déjà très complet, on a donc seulement à diviser notre espace en cellule, et à effectuer une translation pour que chaque cellule soit équivalente à une étude sur $[0,1]^2$ (tout en gardant le fonctionnement de f donc). Il vient assez naturellement :"
   ]
  },
  {
   "cell_type": "code",
   "execution_count": 22,
   "metadata": {},
   "outputs": [],
   "source": [
    "def contour(f, c=0.0, xc=[0.0,1.0], yc=[0.0,1.0], delta=0.01):\n",
    "    xs=[]\n",
    "    ys=[]\n",
    "    lini=xc[1]-xc[0] #taille de chaque cellule\n",
    "    for xci,yci in zip(xc,yc):\n",
    "        def fu(x,y): #nouvelle fonction f centrée sur la cellule\n",
    "            return (f((x-xci)/lini,(y-yci)/lini))\n",
    "        X=[x*lini+xci for x in simple_contour_v3(fu,c,delta)[0]]\n",
    "        Y=[y*lini+yci for y in simple_contour_v3(fu,c,delta)[1]]\n",
    "        xs.append(X)\n",
    "        ys.append(Y)\n",
    "    return xs,ys"
   ]
  },
  {
   "cell_type": "markdown",
   "metadata": {},
   "source": [
    "Reste à tester contour avec une première fonction très simple (gardons celle de contour_simple) :"
   ]
  },
  {
   "cell_type": "code",
   "execution_count": 23,
   "metadata": {},
   "outputs": [
    {
     "ename": "KeyboardInterrupt",
     "evalue": "",
     "output_type": "error",
     "traceback": [
      "\u001b[1;31m---------------------------------------------------------------------------\u001b[0m",
      "\u001b[1;31mKeyboardInterrupt\u001b[0m                         Traceback (most recent call last)",
      "\u001b[1;32m<ipython-input-23-fa38164549f3>\u001b[0m in \u001b[0;36m<module>\u001b[1;34m\u001b[0m\n\u001b[0;32m      2\u001b[0m     \u001b[1;32mreturn\u001b[0m \u001b[1;33m(\u001b[0m\u001b[0mx\u001b[0m\u001b[1;33m+\u001b[0m\u001b[1;36m0.2\u001b[0m\u001b[1;33m)\u001b[0m\u001b[1;33m**\u001b[0m\u001b[1;36m2\u001b[0m\u001b[1;33m+\u001b[0m\u001b[1;33m(\u001b[0m\u001b[0my\u001b[0m\u001b[1;33m-\u001b[0m\u001b[1;36m0.2\u001b[0m\u001b[1;33m)\u001b[0m\u001b[1;33m**\u001b[0m\u001b[1;36m2\u001b[0m\u001b[1;33m-\u001b[0m\u001b[1;36m0.3\u001b[0m\u001b[1;33m\u001b[0m\u001b[1;33m\u001b[0m\u001b[0m\n\u001b[0;32m      3\u001b[0m \u001b[1;33m\u001b[0m\u001b[0m\n\u001b[1;32m----> 4\u001b[1;33m \u001b[0mxs\u001b[0m\u001b[1;33m,\u001b[0m \u001b[0mys\u001b[0m \u001b[1;33m=\u001b[0m \u001b[0mcontour\u001b[0m\u001b[1;33m(\u001b[0m\u001b[0mg\u001b[0m\u001b[1;33m,\u001b[0m \u001b[1;36m0\u001b[0m\u001b[1;33m,\u001b[0m \u001b[0mnp\u001b[0m\u001b[1;33m.\u001b[0m\u001b[0mlinspace\u001b[0m\u001b[1;33m(\u001b[0m\u001b[1;33m-\u001b[0m\u001b[1;36m1\u001b[0m\u001b[1;33m,\u001b[0m\u001b[1;36m1\u001b[0m\u001b[1;33m,\u001b[0m\u001b[1;36m10\u001b[0m\u001b[1;33m)\u001b[0m\u001b[1;33m,\u001b[0m \u001b[0mnp\u001b[0m\u001b[1;33m.\u001b[0m\u001b[0mlinspace\u001b[0m\u001b[1;33m(\u001b[0m\u001b[1;33m-\u001b[0m\u001b[1;36m1\u001b[0m\u001b[1;33m,\u001b[0m\u001b[1;36m1\u001b[0m\u001b[1;33m,\u001b[0m\u001b[1;36m10\u001b[0m\u001b[1;33m)\u001b[0m\u001b[1;33m)\u001b[0m\u001b[1;33m\u001b[0m\u001b[1;33m\u001b[0m\u001b[0m\n\u001b[0m\u001b[0;32m      5\u001b[0m \u001b[1;32mfor\u001b[0m \u001b[0mx\u001b[0m\u001b[1;33m,\u001b[0m \u001b[0my\u001b[0m \u001b[1;32min\u001b[0m \u001b[0mzip\u001b[0m\u001b[1;33m(\u001b[0m\u001b[0mxs\u001b[0m\u001b[1;33m,\u001b[0m\u001b[0mys\u001b[0m\u001b[1;33m)\u001b[0m\u001b[1;33m:\u001b[0m\u001b[1;33m\u001b[0m\u001b[1;33m\u001b[0m\u001b[0m\n\u001b[0;32m      6\u001b[0m     \u001b[0mplt\u001b[0m\u001b[1;33m.\u001b[0m\u001b[0mscatter\u001b[0m\u001b[1;33m(\u001b[0m\u001b[0mx\u001b[0m\u001b[1;33m,\u001b[0m\u001b[0my\u001b[0m\u001b[1;33m)\u001b[0m\u001b[1;33m\u001b[0m\u001b[1;33m\u001b[0m\u001b[0m\n",
      "\u001b[1;32m<ipython-input-22-04863ba78705>\u001b[0m in \u001b[0;36mcontour\u001b[1;34m(f, c, xc, yc, delta)\u001b[0m\n\u001b[0;32m      6\u001b[0m         \u001b[1;32mdef\u001b[0m \u001b[0mfu\u001b[0m\u001b[1;33m(\u001b[0m\u001b[0mx\u001b[0m\u001b[1;33m,\u001b[0m\u001b[0my\u001b[0m\u001b[1;33m)\u001b[0m\u001b[1;33m:\u001b[0m \u001b[1;31m#nouvelle fonction f centrée sur la cellule\u001b[0m\u001b[1;33m\u001b[0m\u001b[1;33m\u001b[0m\u001b[0m\n\u001b[0;32m      7\u001b[0m             \u001b[1;32mreturn\u001b[0m \u001b[1;33m(\u001b[0m\u001b[0mf\u001b[0m\u001b[1;33m(\u001b[0m\u001b[1;33m(\u001b[0m\u001b[0mx\u001b[0m\u001b[1;33m-\u001b[0m\u001b[0mxci\u001b[0m\u001b[1;33m)\u001b[0m\u001b[1;33m/\u001b[0m\u001b[0mlini\u001b[0m\u001b[1;33m,\u001b[0m\u001b[1;33m(\u001b[0m\u001b[0my\u001b[0m\u001b[1;33m-\u001b[0m\u001b[0myci\u001b[0m\u001b[1;33m)\u001b[0m\u001b[1;33m/\u001b[0m\u001b[0mlini\u001b[0m\u001b[1;33m)\u001b[0m\u001b[1;33m)\u001b[0m\u001b[1;33m\u001b[0m\u001b[1;33m\u001b[0m\u001b[0m\n\u001b[1;32m----> 8\u001b[1;33m         \u001b[0mX\u001b[0m\u001b[1;33m=\u001b[0m\u001b[1;33m[\u001b[0m\u001b[0mx\u001b[0m\u001b[1;33m*\u001b[0m\u001b[0mlini\u001b[0m\u001b[1;33m+\u001b[0m\u001b[0mxci\u001b[0m \u001b[1;32mfor\u001b[0m \u001b[0mx\u001b[0m \u001b[1;32min\u001b[0m \u001b[0msimple_contour_v3\u001b[0m\u001b[1;33m(\u001b[0m\u001b[0mfu\u001b[0m\u001b[1;33m,\u001b[0m\u001b[0mc\u001b[0m\u001b[1;33m,\u001b[0m\u001b[0mdelta\u001b[0m\u001b[1;33m)\u001b[0m\u001b[1;33m[\u001b[0m\u001b[1;36m0\u001b[0m\u001b[1;33m]\u001b[0m\u001b[1;33m]\u001b[0m\u001b[1;33m\u001b[0m\u001b[1;33m\u001b[0m\u001b[0m\n\u001b[0m\u001b[0;32m      9\u001b[0m         \u001b[0mY\u001b[0m\u001b[1;33m=\u001b[0m\u001b[1;33m[\u001b[0m\u001b[0my\u001b[0m\u001b[1;33m*\u001b[0m\u001b[0mlini\u001b[0m\u001b[1;33m+\u001b[0m\u001b[0myci\u001b[0m \u001b[1;32mfor\u001b[0m \u001b[0my\u001b[0m \u001b[1;32min\u001b[0m \u001b[0msimple_contour_v3\u001b[0m\u001b[1;33m(\u001b[0m\u001b[0mfu\u001b[0m\u001b[1;33m,\u001b[0m\u001b[0mc\u001b[0m\u001b[1;33m,\u001b[0m\u001b[0mdelta\u001b[0m\u001b[1;33m)\u001b[0m\u001b[1;33m[\u001b[0m\u001b[1;36m1\u001b[0m\u001b[1;33m]\u001b[0m\u001b[1;33m]\u001b[0m\u001b[1;33m\u001b[0m\u001b[1;33m\u001b[0m\u001b[0m\n\u001b[0;32m     10\u001b[0m         \u001b[0mxs\u001b[0m\u001b[1;33m.\u001b[0m\u001b[0mappend\u001b[0m\u001b[1;33m(\u001b[0m\u001b[0mX\u001b[0m\u001b[1;33m)\u001b[0m\u001b[1;33m\u001b[0m\u001b[1;33m\u001b[0m\u001b[0m\n",
      "\u001b[1;32m<ipython-input-20-fec47681b8b9>\u001b[0m in \u001b[0;36msimple_contour_v3\u001b[1;34m(f, c, delta)\u001b[0m\n\u001b[0;32m      2\u001b[0m     \u001b[0mX\u001b[0m\u001b[1;33m=\u001b[0m\u001b[1;33m[\u001b[0m\u001b[1;33m]\u001b[0m\u001b[1;33m\u001b[0m\u001b[1;33m\u001b[0m\u001b[0m\n\u001b[0;32m      3\u001b[0m     \u001b[0mY\u001b[0m\u001b[1;33m=\u001b[0m\u001b[1;33m[\u001b[0m\u001b[1;33m]\u001b[0m\u001b[1;33m\u001b[0m\u001b[1;33m\u001b[0m\u001b[0m\n\u001b[1;32m----> 4\u001b[1;33m     \u001b[0mx0\u001b[0m\u001b[1;33m,\u001b[0m\u001b[0my0\u001b[0m\u001b[1;33m=\u001b[0m\u001b[0mfind_seed_v2\u001b[0m\u001b[1;33m(\u001b[0m\u001b[0mf\u001b[0m\u001b[1;33m,\u001b[0m\u001b[0mc\u001b[0m\u001b[1;33m)\u001b[0m\u001b[1;33m\u001b[0m\u001b[1;33m\u001b[0m\u001b[0m\n\u001b[0m\u001b[0;32m      5\u001b[0m     \u001b[1;32mif\u001b[0m \u001b[0mx0\u001b[0m \u001b[1;32mis\u001b[0m \u001b[1;32mnot\u001b[0m \u001b[1;32mNone\u001b[0m \u001b[1;32mand\u001b[0m \u001b[0my0\u001b[0m \u001b[1;32mis\u001b[0m \u001b[1;32mnot\u001b[0m \u001b[1;32mNone\u001b[0m \u001b[1;33m:\u001b[0m\u001b[1;33m\u001b[0m\u001b[1;33m\u001b[0m\u001b[0m\n\u001b[0;32m      6\u001b[0m         \u001b[0mx0\u001b[0m\u001b[1;33m,\u001b[0m\u001b[0my0\u001b[0m\u001b[1;33m=\u001b[0m\u001b[0mfloat\u001b[0m\u001b[1;33m(\u001b[0m\u001b[0mx0\u001b[0m\u001b[1;33m)\u001b[0m\u001b[1;33m,\u001b[0m\u001b[0mfloat\u001b[0m\u001b[1;33m(\u001b[0m\u001b[0my0\u001b[0m\u001b[1;33m)\u001b[0m\u001b[1;33m\u001b[0m\u001b[1;33m\u001b[0m\u001b[0m\n",
      "\u001b[1;32m<ipython-input-16-c04b067ffa0d>\u001b[0m in \u001b[0;36mfind_seed_v2\u001b[1;34m(f, c, eps)\u001b[0m\n\u001b[0;32m      9\u001b[0m             \u001b[0mi\u001b[0m\u001b[1;33m=\u001b[0m\u001b[1;33m(\u001b[0m\u001b[0ma\u001b[0m\u001b[1;33m+\u001b[0m\u001b[0mb\u001b[0m\u001b[1;33m)\u001b[0m\u001b[1;33m/\u001b[0m\u001b[1;36m2\u001b[0m\u001b[1;33m\u001b[0m\u001b[1;33m\u001b[0m\u001b[0m\n\u001b[0;32m     10\u001b[0m             \u001b[1;32mwhile\u001b[0m \u001b[0mabs\u001b[0m\u001b[1;33m(\u001b[0m\u001b[0mc\u001b[0m\u001b[1;33m-\u001b[0m\u001b[0mg\u001b[0m\u001b[1;33m(\u001b[0m\u001b[0mi\u001b[0m\u001b[1;33m)\u001b[0m\u001b[1;33m)\u001b[0m\u001b[1;33m>\u001b[0m\u001b[0meps\u001b[0m\u001b[1;33m:\u001b[0m\u001b[1;33m\u001b[0m\u001b[1;33m\u001b[0m\u001b[0m\n\u001b[1;32m---> 11\u001b[1;33m                 \u001b[1;32mif\u001b[0m \u001b[0mc\u001b[0m\u001b[1;33m>\u001b[0m\u001b[0mg\u001b[0m\u001b[1;33m(\u001b[0m\u001b[0mi\u001b[0m\u001b[1;33m)\u001b[0m\u001b[1;33m:\u001b[0m\u001b[1;33m\u001b[0m\u001b[1;33m\u001b[0m\u001b[0m\n\u001b[0m\u001b[0;32m     12\u001b[0m                     \u001b[0ma\u001b[0m\u001b[1;33m=\u001b[0m\u001b[0mi\u001b[0m\u001b[1;33m\u001b[0m\u001b[1;33m\u001b[0m\u001b[0m\n\u001b[0;32m     13\u001b[0m                 \u001b[1;32melse\u001b[0m\u001b[1;33m:\u001b[0m\u001b[1;33m\u001b[0m\u001b[1;33m\u001b[0m\u001b[0m\n",
      "\u001b[1;32m<ipython-input-18-8a93b0806df3>\u001b[0m in \u001b[0;36m<lambda>\u001b[1;34m(y)\u001b[0m\n\u001b[0;32m      3\u001b[0m          \u001b[1;32mreturn\u001b[0m \u001b[1;32mlambda\u001b[0m \u001b[0my\u001b[0m\u001b[1;33m:\u001b[0m\u001b[0mf\u001b[0m\u001b[1;33m(\u001b[0m\u001b[1;36m0\u001b[0m\u001b[1;33m,\u001b[0m\u001b[0my\u001b[0m\u001b[1;33m)\u001b[0m\u001b[1;33m\u001b[0m\u001b[1;33m\u001b[0m\u001b[0m\n\u001b[0;32m      4\u001b[0m     \u001b[1;32mif\u001b[0m \u001b[0mk\u001b[0m\u001b[1;33m==\u001b[0m\u001b[1;36m3\u001b[0m\u001b[1;33m:\u001b[0m\u001b[1;33m\u001b[0m\u001b[1;33m\u001b[0m\u001b[0m\n\u001b[1;32m----> 5\u001b[1;33m          \u001b[1;32mreturn\u001b[0m \u001b[1;32mlambda\u001b[0m \u001b[0my\u001b[0m\u001b[1;33m:\u001b[0m\u001b[0mf\u001b[0m\u001b[1;33m(\u001b[0m\u001b[1;36m1\u001b[0m\u001b[1;33m,\u001b[0m\u001b[0my\u001b[0m\u001b[1;33m)\u001b[0m\u001b[1;33m\u001b[0m\u001b[1;33m\u001b[0m\u001b[0m\n\u001b[0m\u001b[0;32m      6\u001b[0m     \u001b[1;32mif\u001b[0m \u001b[0mk\u001b[0m\u001b[1;33m==\u001b[0m\u001b[1;36m2\u001b[0m\u001b[1;33m:\u001b[0m\u001b[1;33m\u001b[0m\u001b[1;33m\u001b[0m\u001b[0m\n\u001b[0;32m      7\u001b[0m          \u001b[1;32mreturn\u001b[0m \u001b[1;32mlambda\u001b[0m \u001b[0mx\u001b[0m\u001b[1;33m:\u001b[0m\u001b[0mf\u001b[0m\u001b[1;33m(\u001b[0m\u001b[0mx\u001b[0m\u001b[1;33m,\u001b[0m\u001b[1;36m0\u001b[0m\u001b[1;33m)\u001b[0m\u001b[1;33m\u001b[0m\u001b[1;33m\u001b[0m\u001b[0m\n",
      "\u001b[1;32m<ipython-input-22-04863ba78705>\u001b[0m in \u001b[0;36mfu\u001b[1;34m(x, y)\u001b[0m\n\u001b[0;32m      5\u001b[0m     \u001b[1;32mfor\u001b[0m \u001b[0mxci\u001b[0m\u001b[1;33m,\u001b[0m\u001b[0myci\u001b[0m \u001b[1;32min\u001b[0m \u001b[0mzip\u001b[0m\u001b[1;33m(\u001b[0m\u001b[0mxc\u001b[0m\u001b[1;33m,\u001b[0m\u001b[0myc\u001b[0m\u001b[1;33m)\u001b[0m\u001b[1;33m:\u001b[0m\u001b[1;33m\u001b[0m\u001b[1;33m\u001b[0m\u001b[0m\n\u001b[0;32m      6\u001b[0m         \u001b[1;32mdef\u001b[0m \u001b[0mfu\u001b[0m\u001b[1;33m(\u001b[0m\u001b[0mx\u001b[0m\u001b[1;33m,\u001b[0m\u001b[0my\u001b[0m\u001b[1;33m)\u001b[0m\u001b[1;33m:\u001b[0m \u001b[1;31m#nouvelle fonction f centrée sur la cellule\u001b[0m\u001b[1;33m\u001b[0m\u001b[1;33m\u001b[0m\u001b[0m\n\u001b[1;32m----> 7\u001b[1;33m             \u001b[1;32mreturn\u001b[0m \u001b[1;33m(\u001b[0m\u001b[0mf\u001b[0m\u001b[1;33m(\u001b[0m\u001b[1;33m(\u001b[0m\u001b[0mx\u001b[0m\u001b[1;33m-\u001b[0m\u001b[0mxci\u001b[0m\u001b[1;33m)\u001b[0m\u001b[1;33m/\u001b[0m\u001b[0mlini\u001b[0m\u001b[1;33m,\u001b[0m\u001b[1;33m(\u001b[0m\u001b[0my\u001b[0m\u001b[1;33m-\u001b[0m\u001b[0myci\u001b[0m\u001b[1;33m)\u001b[0m\u001b[1;33m/\u001b[0m\u001b[0mlini\u001b[0m\u001b[1;33m)\u001b[0m\u001b[1;33m)\u001b[0m\u001b[1;33m\u001b[0m\u001b[1;33m\u001b[0m\u001b[0m\n\u001b[0m\u001b[0;32m      8\u001b[0m         \u001b[0mX\u001b[0m\u001b[1;33m=\u001b[0m\u001b[1;33m[\u001b[0m\u001b[0mx\u001b[0m\u001b[1;33m*\u001b[0m\u001b[0mlini\u001b[0m\u001b[1;33m+\u001b[0m\u001b[0mxci\u001b[0m \u001b[1;32mfor\u001b[0m \u001b[0mx\u001b[0m \u001b[1;32min\u001b[0m \u001b[0msimple_contour_v3\u001b[0m\u001b[1;33m(\u001b[0m\u001b[0mfu\u001b[0m\u001b[1;33m,\u001b[0m\u001b[0mc\u001b[0m\u001b[1;33m,\u001b[0m\u001b[0mdelta\u001b[0m\u001b[1;33m)\u001b[0m\u001b[1;33m[\u001b[0m\u001b[1;36m0\u001b[0m\u001b[1;33m]\u001b[0m\u001b[1;33m]\u001b[0m\u001b[1;33m\u001b[0m\u001b[1;33m\u001b[0m\u001b[0m\n\u001b[0;32m      9\u001b[0m         \u001b[0mY\u001b[0m\u001b[1;33m=\u001b[0m\u001b[1;33m[\u001b[0m\u001b[0my\u001b[0m\u001b[1;33m*\u001b[0m\u001b[0mlini\u001b[0m\u001b[1;33m+\u001b[0m\u001b[0myci\u001b[0m \u001b[1;32mfor\u001b[0m \u001b[0my\u001b[0m \u001b[1;32min\u001b[0m \u001b[0msimple_contour_v3\u001b[0m\u001b[1;33m(\u001b[0m\u001b[0mfu\u001b[0m\u001b[1;33m,\u001b[0m\u001b[0mc\u001b[0m\u001b[1;33m,\u001b[0m\u001b[0mdelta\u001b[0m\u001b[1;33m)\u001b[0m\u001b[1;33m[\u001b[0m\u001b[1;36m1\u001b[0m\u001b[1;33m]\u001b[0m\u001b[1;33m]\u001b[0m\u001b[1;33m\u001b[0m\u001b[1;33m\u001b[0m\u001b[0m\n",
      "\u001b[1;32m<ipython-input-23-fa38164549f3>\u001b[0m in \u001b[0;36mg\u001b[1;34m(x, y)\u001b[0m\n\u001b[0;32m      1\u001b[0m \u001b[1;32mdef\u001b[0m \u001b[0mg\u001b[0m\u001b[1;33m(\u001b[0m\u001b[0mx\u001b[0m\u001b[1;33m,\u001b[0m\u001b[0my\u001b[0m\u001b[1;33m)\u001b[0m\u001b[1;33m:\u001b[0m\u001b[1;33m\u001b[0m\u001b[1;33m\u001b[0m\u001b[0m\n\u001b[1;32m----> 2\u001b[1;33m     \u001b[1;32mreturn\u001b[0m \u001b[1;33m(\u001b[0m\u001b[0mx\u001b[0m\u001b[1;33m+\u001b[0m\u001b[1;36m0.2\u001b[0m\u001b[1;33m)\u001b[0m\u001b[1;33m**\u001b[0m\u001b[1;36m2\u001b[0m\u001b[1;33m+\u001b[0m\u001b[1;33m(\u001b[0m\u001b[0my\u001b[0m\u001b[1;33m-\u001b[0m\u001b[1;36m0.2\u001b[0m\u001b[1;33m)\u001b[0m\u001b[1;33m**\u001b[0m\u001b[1;36m2\u001b[0m\u001b[1;33m-\u001b[0m\u001b[1;36m0.3\u001b[0m\u001b[1;33m\u001b[0m\u001b[1;33m\u001b[0m\u001b[0m\n\u001b[0m\u001b[0;32m      3\u001b[0m \u001b[1;33m\u001b[0m\u001b[0m\n\u001b[0;32m      4\u001b[0m \u001b[0mxs\u001b[0m\u001b[1;33m,\u001b[0m \u001b[0mys\u001b[0m \u001b[1;33m=\u001b[0m \u001b[0mcontour\u001b[0m\u001b[1;33m(\u001b[0m\u001b[0mg\u001b[0m\u001b[1;33m,\u001b[0m \u001b[1;36m0\u001b[0m\u001b[1;33m,\u001b[0m \u001b[0mnp\u001b[0m\u001b[1;33m.\u001b[0m\u001b[0mlinspace\u001b[0m\u001b[1;33m(\u001b[0m\u001b[1;33m-\u001b[0m\u001b[1;36m1\u001b[0m\u001b[1;33m,\u001b[0m\u001b[1;36m1\u001b[0m\u001b[1;33m,\u001b[0m\u001b[1;36m10\u001b[0m\u001b[1;33m)\u001b[0m\u001b[1;33m,\u001b[0m \u001b[0mnp\u001b[0m\u001b[1;33m.\u001b[0m\u001b[0mlinspace\u001b[0m\u001b[1;33m(\u001b[0m\u001b[1;33m-\u001b[0m\u001b[1;36m1\u001b[0m\u001b[1;33m,\u001b[0m\u001b[1;36m1\u001b[0m\u001b[1;33m,\u001b[0m\u001b[1;36m10\u001b[0m\u001b[1;33m)\u001b[0m\u001b[1;33m)\u001b[0m\u001b[1;33m\u001b[0m\u001b[1;33m\u001b[0m\u001b[0m\n\u001b[0;32m      5\u001b[0m \u001b[1;32mfor\u001b[0m \u001b[0mx\u001b[0m\u001b[1;33m,\u001b[0m \u001b[0my\u001b[0m \u001b[1;32min\u001b[0m \u001b[0mzip\u001b[0m\u001b[1;33m(\u001b[0m\u001b[0mxs\u001b[0m\u001b[1;33m,\u001b[0m\u001b[0mys\u001b[0m\u001b[1;33m)\u001b[0m\u001b[1;33m:\u001b[0m\u001b[1;33m\u001b[0m\u001b[1;33m\u001b[0m\u001b[0m\n",
      "\u001b[1;31mKeyboardInterrupt\u001b[0m: "
     ]
    }
   ],
   "source": [
    "def g(x,y):\n",
    "    return (x+0.2)**2+(y-0.2)**2-0.3\n",
    "\n",
    "xs, ys = contour(g, 0, np.linspace(-1,1,10), np.linspace(-1,1,10))\n",
    "for x, y in zip(xs,ys):\n",
    "    plt.scatter(x,y)\n",
    "plt.show()\n",
    "#Interrompre le noyau après quelques dizaines de secondes"
   ]
  },
  {
   "cell_type": "markdown",
   "metadata": {},
   "source": [
    "Problème, aucun résultat, aucun graphique en sortie. Le programme continue de tourner en permanence, donc. Essayons d'identifier la source du problème, qui doit être en rapport avec contour, en ajoutant un print(X) avant de faire xs.append(X) :"
   ]
  },
  {
   "cell_type": "code",
   "execution_count": 24,
   "metadata": {},
   "outputs": [
    {
     "name": "stdout",
     "output_type": "stream",
     "text": [
      "[]\n",
      "[]\n",
      "[]\n",
      "[]\n",
      "[]\n",
      "[]\n",
      "[]\n",
      "[]\n",
      "[]\n"
     ]
    },
    {
     "ename": "KeyboardInterrupt",
     "evalue": "",
     "output_type": "error",
     "traceback": [
      "\u001b[1;31m---------------------------------------------------------------------------\u001b[0m",
      "\u001b[1;31mKeyboardInterrupt\u001b[0m                         Traceback (most recent call last)",
      "\u001b[1;32m<ipython-input-24-573966be7805>\u001b[0m in \u001b[0;36m<module>\u001b[1;34m\u001b[0m\n\u001b[0;32m     16\u001b[0m     \u001b[1;32mreturn\u001b[0m \u001b[1;33m(\u001b[0m\u001b[0mx\u001b[0m\u001b[1;33m+\u001b[0m\u001b[1;36m0.2\u001b[0m\u001b[1;33m)\u001b[0m\u001b[1;33m**\u001b[0m\u001b[1;36m2\u001b[0m\u001b[1;33m+\u001b[0m\u001b[1;33m(\u001b[0m\u001b[0my\u001b[0m\u001b[1;33m-\u001b[0m\u001b[1;36m0.2\u001b[0m\u001b[1;33m)\u001b[0m\u001b[1;33m**\u001b[0m\u001b[1;36m2\u001b[0m\u001b[1;33m-\u001b[0m\u001b[1;36m0.3\u001b[0m\u001b[1;33m\u001b[0m\u001b[1;33m\u001b[0m\u001b[0m\n\u001b[0;32m     17\u001b[0m \u001b[1;33m\u001b[0m\u001b[0m\n\u001b[1;32m---> 18\u001b[1;33m \u001b[0mxs\u001b[0m\u001b[1;33m,\u001b[0m \u001b[0mys\u001b[0m \u001b[1;33m=\u001b[0m \u001b[0mcontour\u001b[0m\u001b[1;33m(\u001b[0m\u001b[0mg\u001b[0m\u001b[1;33m,\u001b[0m \u001b[1;36m0\u001b[0m\u001b[1;33m,\u001b[0m \u001b[0mnp\u001b[0m\u001b[1;33m.\u001b[0m\u001b[0mlinspace\u001b[0m\u001b[1;33m(\u001b[0m\u001b[1;33m-\u001b[0m\u001b[1;36m1\u001b[0m\u001b[1;33m,\u001b[0m\u001b[1;36m1\u001b[0m\u001b[1;33m,\u001b[0m\u001b[1;36m10\u001b[0m\u001b[1;33m)\u001b[0m\u001b[1;33m,\u001b[0m \u001b[0mnp\u001b[0m\u001b[1;33m.\u001b[0m\u001b[0mlinspace\u001b[0m\u001b[1;33m(\u001b[0m\u001b[1;33m-\u001b[0m\u001b[1;36m1\u001b[0m\u001b[1;33m,\u001b[0m\u001b[1;36m1\u001b[0m\u001b[1;33m,\u001b[0m\u001b[1;36m10\u001b[0m\u001b[1;33m)\u001b[0m\u001b[1;33m)\u001b[0m\u001b[1;33m\u001b[0m\u001b[1;33m\u001b[0m\u001b[0m\n\u001b[0m\u001b[0;32m     19\u001b[0m \u001b[1;32mfor\u001b[0m \u001b[0mx\u001b[0m\u001b[1;33m,\u001b[0m \u001b[0my\u001b[0m \u001b[1;32min\u001b[0m \u001b[0mzip\u001b[0m\u001b[1;33m(\u001b[0m\u001b[0mxs\u001b[0m\u001b[1;33m,\u001b[0m\u001b[0mys\u001b[0m\u001b[1;33m)\u001b[0m\u001b[1;33m:\u001b[0m\u001b[1;33m\u001b[0m\u001b[1;33m\u001b[0m\u001b[0m\n\u001b[0;32m     20\u001b[0m     \u001b[0mplt\u001b[0m\u001b[1;33m.\u001b[0m\u001b[0mscatter\u001b[0m\u001b[1;33m(\u001b[0m\u001b[0mx\u001b[0m\u001b[1;33m,\u001b[0m\u001b[0my\u001b[0m\u001b[1;33m)\u001b[0m\u001b[1;33m\u001b[0m\u001b[1;33m\u001b[0m\u001b[0m\n",
      "\u001b[1;32m<ipython-input-24-573966be7805>\u001b[0m in \u001b[0;36mcontour\u001b[1;34m(f, c, xc, yc, delta)\u001b[0m\n\u001b[0;32m      6\u001b[0m         \u001b[1;32mdef\u001b[0m \u001b[0mfu\u001b[0m\u001b[1;33m(\u001b[0m\u001b[0mx\u001b[0m\u001b[1;33m,\u001b[0m\u001b[0my\u001b[0m\u001b[1;33m)\u001b[0m\u001b[1;33m:\u001b[0m \u001b[1;31m#nouvelle fonction f centrée sur la cellule\u001b[0m\u001b[1;33m\u001b[0m\u001b[1;33m\u001b[0m\u001b[0m\n\u001b[0;32m      7\u001b[0m             \u001b[1;32mreturn\u001b[0m \u001b[1;33m(\u001b[0m\u001b[0mf\u001b[0m\u001b[1;33m(\u001b[0m\u001b[1;33m(\u001b[0m\u001b[0mx\u001b[0m\u001b[1;33m-\u001b[0m\u001b[0mxci\u001b[0m\u001b[1;33m)\u001b[0m\u001b[1;33m/\u001b[0m\u001b[0mlini\u001b[0m\u001b[1;33m,\u001b[0m\u001b[1;33m(\u001b[0m\u001b[0my\u001b[0m\u001b[1;33m-\u001b[0m\u001b[0myci\u001b[0m\u001b[1;33m)\u001b[0m\u001b[1;33m/\u001b[0m\u001b[0mlini\u001b[0m\u001b[1;33m)\u001b[0m\u001b[1;33m)\u001b[0m\u001b[1;33m\u001b[0m\u001b[1;33m\u001b[0m\u001b[0m\n\u001b[1;32m----> 8\u001b[1;33m         \u001b[0mX\u001b[0m\u001b[1;33m=\u001b[0m\u001b[1;33m[\u001b[0m\u001b[0mx\u001b[0m\u001b[1;33m*\u001b[0m\u001b[0mlini\u001b[0m\u001b[1;33m+\u001b[0m\u001b[0mxci\u001b[0m \u001b[1;32mfor\u001b[0m \u001b[0mx\u001b[0m \u001b[1;32min\u001b[0m \u001b[0msimple_contour_v3\u001b[0m\u001b[1;33m(\u001b[0m\u001b[0mfu\u001b[0m\u001b[1;33m,\u001b[0m\u001b[0mc\u001b[0m\u001b[1;33m,\u001b[0m\u001b[0mdelta\u001b[0m\u001b[1;33m)\u001b[0m\u001b[1;33m[\u001b[0m\u001b[1;36m0\u001b[0m\u001b[1;33m]\u001b[0m\u001b[1;33m]\u001b[0m \u001b[1;31m#Ramener les lignes de niveau sur la bonne cellule\u001b[0m\u001b[1;33m\u001b[0m\u001b[1;33m\u001b[0m\u001b[0m\n\u001b[0m\u001b[0;32m      9\u001b[0m         \u001b[0mY\u001b[0m\u001b[1;33m=\u001b[0m\u001b[1;33m[\u001b[0m\u001b[0my\u001b[0m\u001b[1;33m*\u001b[0m\u001b[0mlini\u001b[0m\u001b[1;33m+\u001b[0m\u001b[0myci\u001b[0m \u001b[1;32mfor\u001b[0m \u001b[0my\u001b[0m \u001b[1;32min\u001b[0m \u001b[0msimple_contour_v3\u001b[0m\u001b[1;33m(\u001b[0m\u001b[0mfu\u001b[0m\u001b[1;33m,\u001b[0m\u001b[0mc\u001b[0m\u001b[1;33m,\u001b[0m\u001b[0mdelta\u001b[0m\u001b[1;33m)\u001b[0m\u001b[1;33m[\u001b[0m\u001b[1;36m1\u001b[0m\u001b[1;33m]\u001b[0m\u001b[1;33m]\u001b[0m\u001b[1;33m\u001b[0m\u001b[1;33m\u001b[0m\u001b[0m\n\u001b[0;32m     10\u001b[0m         \u001b[0mprint\u001b[0m\u001b[1;33m(\u001b[0m\u001b[0mX\u001b[0m\u001b[1;33m)\u001b[0m\u001b[1;33m\u001b[0m\u001b[1;33m\u001b[0m\u001b[0m\n",
      "\u001b[1;32m<ipython-input-20-fec47681b8b9>\u001b[0m in \u001b[0;36msimple_contour_v3\u001b[1;34m(f, c, delta)\u001b[0m\n\u001b[0;32m      2\u001b[0m     \u001b[0mX\u001b[0m\u001b[1;33m=\u001b[0m\u001b[1;33m[\u001b[0m\u001b[1;33m]\u001b[0m\u001b[1;33m\u001b[0m\u001b[1;33m\u001b[0m\u001b[0m\n\u001b[0;32m      3\u001b[0m     \u001b[0mY\u001b[0m\u001b[1;33m=\u001b[0m\u001b[1;33m[\u001b[0m\u001b[1;33m]\u001b[0m\u001b[1;33m\u001b[0m\u001b[1;33m\u001b[0m\u001b[0m\n\u001b[1;32m----> 4\u001b[1;33m     \u001b[0mx0\u001b[0m\u001b[1;33m,\u001b[0m\u001b[0my0\u001b[0m\u001b[1;33m=\u001b[0m\u001b[0mfind_seed_v2\u001b[0m\u001b[1;33m(\u001b[0m\u001b[0mf\u001b[0m\u001b[1;33m,\u001b[0m\u001b[0mc\u001b[0m\u001b[1;33m)\u001b[0m\u001b[1;33m\u001b[0m\u001b[1;33m\u001b[0m\u001b[0m\n\u001b[0m\u001b[0;32m      5\u001b[0m     \u001b[1;32mif\u001b[0m \u001b[0mx0\u001b[0m \u001b[1;32mis\u001b[0m \u001b[1;32mnot\u001b[0m \u001b[1;32mNone\u001b[0m \u001b[1;32mand\u001b[0m \u001b[0my0\u001b[0m \u001b[1;32mis\u001b[0m \u001b[1;32mnot\u001b[0m \u001b[1;32mNone\u001b[0m \u001b[1;33m:\u001b[0m\u001b[1;33m\u001b[0m\u001b[1;33m\u001b[0m\u001b[0m\n\u001b[0;32m      6\u001b[0m         \u001b[0mx0\u001b[0m\u001b[1;33m,\u001b[0m\u001b[0my0\u001b[0m\u001b[1;33m=\u001b[0m\u001b[0mfloat\u001b[0m\u001b[1;33m(\u001b[0m\u001b[0mx0\u001b[0m\u001b[1;33m)\u001b[0m\u001b[1;33m,\u001b[0m\u001b[0mfloat\u001b[0m\u001b[1;33m(\u001b[0m\u001b[0my0\u001b[0m\u001b[1;33m)\u001b[0m\u001b[1;33m\u001b[0m\u001b[1;33m\u001b[0m\u001b[0m\n",
      "\u001b[1;32m<ipython-input-16-c04b067ffa0d>\u001b[0m in \u001b[0;36mfind_seed_v2\u001b[1;34m(f, c, eps)\u001b[0m\n\u001b[0;32m      8\u001b[0m             \u001b[0mb\u001b[0m\u001b[1;33m=\u001b[0m\u001b[1;36m1\u001b[0m\u001b[1;33m\u001b[0m\u001b[1;33m\u001b[0m\u001b[0m\n\u001b[0;32m      9\u001b[0m             \u001b[0mi\u001b[0m\u001b[1;33m=\u001b[0m\u001b[1;33m(\u001b[0m\u001b[0ma\u001b[0m\u001b[1;33m+\u001b[0m\u001b[0mb\u001b[0m\u001b[1;33m)\u001b[0m\u001b[1;33m/\u001b[0m\u001b[1;36m2\u001b[0m\u001b[1;33m\u001b[0m\u001b[1;33m\u001b[0m\u001b[0m\n\u001b[1;32m---> 10\u001b[1;33m             \u001b[1;32mwhile\u001b[0m \u001b[0mabs\u001b[0m\u001b[1;33m(\u001b[0m\u001b[0mc\u001b[0m\u001b[1;33m-\u001b[0m\u001b[0mg\u001b[0m\u001b[1;33m(\u001b[0m\u001b[0mi\u001b[0m\u001b[1;33m)\u001b[0m\u001b[1;33m)\u001b[0m\u001b[1;33m>\u001b[0m\u001b[0meps\u001b[0m\u001b[1;33m:\u001b[0m\u001b[1;33m\u001b[0m\u001b[1;33m\u001b[0m\u001b[0m\n\u001b[0m\u001b[0;32m     11\u001b[0m                 \u001b[1;32mif\u001b[0m \u001b[0mc\u001b[0m\u001b[1;33m>\u001b[0m\u001b[0mg\u001b[0m\u001b[1;33m(\u001b[0m\u001b[0mi\u001b[0m\u001b[1;33m)\u001b[0m\u001b[1;33m:\u001b[0m\u001b[1;33m\u001b[0m\u001b[1;33m\u001b[0m\u001b[0m\n\u001b[0;32m     12\u001b[0m                     \u001b[0ma\u001b[0m\u001b[1;33m=\u001b[0m\u001b[0mi\u001b[0m\u001b[1;33m\u001b[0m\u001b[1;33m\u001b[0m\u001b[0m\n",
      "\u001b[1;31mKeyboardInterrupt\u001b[0m: "
     ]
    }
   ],
   "source": [
    "def contour(f, c=0.0, xc=[0.0,1.0], yc=[0.0,1.0], delta=0.01):\n",
    "    xs=[]\n",
    "    ys=[]\n",
    "    lini=xc[1]-xc[0] #taille de chaque cellule\n",
    "    for xci,yci in zip(xc,yc):\n",
    "        def fu(x,y): #nouvelle fonction f centrée sur la cellule\n",
    "            return (f((x-xci)/lini,(y-yci)/lini))\n",
    "        X=[x*lini+xci for x in simple_contour_v3(fu,c,delta)[0]] #Ramener les lignes de niveau sur la bonne cellule\n",
    "        Y=[y*lini+yci for y in simple_contour_v3(fu,c,delta)[1]]\n",
    "        print(X)\n",
    "        xs.append(X)\n",
    "        ys.append(Y)\n",
    "    return xs,ys\n",
    "\n",
    "def g(x,y):\n",
    "    return (x+0.2)**2+(y-0.2)**2-0.3\n",
    "\n",
    "xs, ys = contour(g, 0, np.linspace(-1,1,10), np.linspace(-1,1,10))\n",
    "for x, y in zip(xs,ys):\n",
    "    plt.scatter(x,y)\n",
    "plt.show()"
   ]
  },
  {
   "cell_type": "markdown",
   "metadata": {},
   "source": [
    "On voit donc que contour marche d'abord sur quelques cellules vides, et semble planter en rencontrant une cellule dans laquelle on doit trouver une ligne de niveau. L'une de nos hypothèses porte sur le fait que simple_contour_v3 présente un problème d'exécution au moment où il doit renvoyer autre chose que None. Mais, en parallèle, cette fonction marche parfaitement. Malgré plusieurs tests et réécritures non fructueux, nous sommes donc à court d'idées."
   ]
  }
 ],
 "metadata": {
  "kernelspec": {
   "display_name": "Python 3",
   "language": "python",
   "name": "python3"
  },
  "language_info": {
   "codemirror_mode": {
    "name": "ipython",
    "version": 3
   },
   "file_extension": ".py",
   "mimetype": "text/x-python",
   "name": "python",
   "nbconvert_exporter": "python",
   "pygments_lexer": "ipython3",
   "version": "3.7.3"
  }
 },
 "nbformat": 4,
 "nbformat_minor": 2
}
